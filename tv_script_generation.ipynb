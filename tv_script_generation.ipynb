{
 "cells": [
  {
   "cell_type": "markdown",
   "metadata": {
    "deletable": true,
    "editable": true
   },
   "source": [
    "# TV Script Generation\n",
    "\n",
    "In this project, we'll generate our own [Simpsons](https://en.wikipedia.org/wiki/The_Simpsons) TV scripts using RNNs!\n",
    "\n",
    "![](http://media.globaltv.com/uploadedimages/pages/shows/the_simpsons/the_simpsons_smartforms/mainelement.png?n=6428)"
   ]
  },
  {
   "cell_type": "markdown",
   "metadata": {
    "deletable": true,
    "editable": true
   },
   "source": [
    "We'll be using part of the [Simpsons dataset](https://www.kaggle.com/wcukierski/the-simpsons-by-the-data) of scripts from 27 seasons.  \n",
    "\n",
    "The Neural Network you'll build will generate a new TV script for a scene at [Moe's Tavern](https://simpsonswiki.com/wiki/Moe's_Tavern)."
   ]
  },
  {
   "cell_type": "markdown",
   "metadata": {
    "deletable": true,
    "editable": true
   },
   "source": [
    "## Get the Data\n",
    "\n",
    "The data is already provided for you, but we'll just be using a subset of the original dataset.  It consists of only the scenes in Moe's Tavern.  This doesn't include other versions of the tavern, like \"Moe's Cavern\", \"Flaming Moe's\", \"Uncle Moe's Family Feed-Bag\", etc.."
   ]
  },
  {
   "cell_type": "code",
   "execution_count": 1,
   "metadata": {
    "collapsed": true,
    "deletable": true,
    "editable": true
   },
   "outputs": [],
   "source": [
    "\"\"\"\n",
    "DON'T MODIFY ANYTHING IN THIS CELL\n",
    "\"\"\"\n",
    "import helper\n",
    "\n",
    "data_dir = './data/simpsons/moes_tavern_lines.txt'\n",
    "text = helper.load_data(data_dir)\n",
    "# Ignore notice, since we don't use it for analysing the data\n",
    "text = text[81:]"
   ]
  },
  {
   "cell_type": "markdown",
   "metadata": {
    "deletable": true,
    "editable": true
   },
   "source": [
    "## Explore the Data\n",
    "Play around with `view_sentence_range` to view different parts of the data."
   ]
  },
  {
   "cell_type": "code",
   "execution_count": 2,
   "metadata": {
    "collapsed": false,
    "deletable": true,
    "editable": true
   },
   "outputs": [
    {
     "name": "stdout",
     "output_type": "stream",
     "text": [
      "Dataset Stats\n",
      "Roughly the number of unique words: 11492\n",
      "Number of scenes: 262\n",
      "Average number of sentences in each scene: 15.248091603053435\n",
      "Number of lines: 4257\n",
      "Average number of words in each line: 11.50434578341555\n",
      "\n",
      "The sentences 0 to 36:\n",
      "Moe_Szyslak: (INTO PHONE) Moe's Tavern. Where the elite meet to drink.\n",
      "Bart_Simpson: Eh, yeah, hello, is Mike there? Last name, Rotch.\n",
      "Moe_Szyslak: (INTO PHONE) Hold on, I'll check. (TO BARFLIES) Mike Rotch. Mike Rotch. Hey, has anybody seen Mike Rotch, lately?\n",
      "Moe_Szyslak: (INTO PHONE) Listen you little puke. One of these days I'm gonna catch you, and I'm gonna carve my name on your back with an ice pick.\n",
      "Moe_Szyslak: What's the matter Homer? You're not your normal effervescent self.\n",
      "Homer_Simpson: I got my problems, Moe. Give me another one.\n",
      "Moe_Szyslak: Homer, hey, you should not drink to forget your problems.\n",
      "Barney_Gumble: Yeah, you should only drink to enhance your social skills.\n",
      "\n",
      "\n",
      "Moe_Szyslak: Ah, isn't that nice. Now, there is a politician who cares.\n",
      "Barney_Gumble: If I ever vote, it'll be for him. (BELCH)\n",
      "\n",
      "\n",
      "Barney_Gumble: Hey Homer, how's your neighbor's store doing?\n",
      "Homer_Simpson: Lousy. He just sits there all day. He'd have a great job if he didn't own the place. (CHUCKLES)\n",
      "Moe_Szyslak: (STRUGGLING WITH CORKSCREW) Crummy right-handed corkscrews! What does he sell?\n",
      "Homer_Simpson: Uh, well actually, Moe...\n",
      "HOMER_(CONT'D: I dunno.\n",
      "\n",
      "\n",
      "Moe_Szyslak: Looks like this is the end.\n",
      "Barney_Gumble: That's all right. I couldn't have led a richer life.\n",
      "Barney_Gumble: So the next time somebody tells you county folk are good, honest people, you can spit in their faces for me!\n",
      "Lisa_Simpson: I will, Mr. Gumbel. But if you'll excuse me, I'm profiling my dad for the school paper. I thought it would be neat to follow him around for a day to see what makes him tick.\n",
      "Barney_Gumble: Oh, that's sweet. I used to follow my dad to a lot of bars too. (BELCH)\n",
      "Moe_Szyslak: Here you go. One beer, one chocolate milk.\n",
      "Lisa_Simpson: Uh, excuse me, I have the chocolate milk.\n",
      "Moe_Szyslak: Oh.\n",
      "Moe_Szyslak: What's the matter, Homer? The depressin' effects of alcohol usually don't kick in 'til closing time.\n",
      "Lisa_Simpson: He's just a little nervous. (PROUDLY) He has to give a speech tomorrow on \"How To Keep Cool In A Crisis.\"\n",
      "Homer_Simpson: (SOBS) What am I gonna do? What am I gonna do?\n",
      "Barney_Gumble: Hey, I had to give a speech once. I was pretty nervous, so I used a little trick. I pictured everyone in their underwear. The judge, the jury, my lawyer, everybody.\n",
      "Homer_Simpson: Did it work?\n",
      "Barney_Gumble: I'm a free man, ain't I?\n",
      "Barney_Gumble: Whoa!\n"
     ]
    }
   ],
   "source": [
    "import numpy as np\n",
    "\n",
    "view_sentence_range = (0, np.random.randint(1, 50))\n",
    "\n",
    "\"\"\"\n",
    "DON'T MODIFY ANYTHING IN THIS CELL\n",
    "\"\"\"\n",
    "import numpy as np\n",
    "\n",
    "print('Dataset Stats')\n",
    "print('Roughly the number of unique words: {}'.format(len({word: None for word in text.split()})))\n",
    "scenes = text.split('\\n\\n')\n",
    "print('Number of scenes: {}'.format(len(scenes)))\n",
    "sentence_count_scene = [scene.count('\\n') for scene in scenes]\n",
    "print('Average number of sentences in each scene: {}'.format(np.average(sentence_count_scene)))\n",
    "\n",
    "sentences = [sentence for scene in scenes for sentence in scene.split('\\n')]\n",
    "print('Number of lines: {}'.format(len(sentences)))\n",
    "word_count_sentence = [len(sentence.split()) for sentence in sentences]\n",
    "print('Average number of words in each line: {}'.format(np.average(word_count_sentence)))\n",
    "\n",
    "print()\n",
    "print('The sentences {} to {}:'.format(*view_sentence_range))\n",
    "print('\\n'.join(text.split('\\n')[view_sentence_range[0]:view_sentence_range[1]]))"
   ]
  },
  {
   "cell_type": "markdown",
   "metadata": {
    "deletable": true,
    "editable": true
   },
   "source": [
    "## Preprocess the Data\n",
    "\n",
    "As usual, the first thing to do to any dataset is preprocessing.  Let's implement the following preprocessing functions below:\n",
    "\n",
    "- Lookup Table\n",
    "- Tokenize Punctuation"
   ]
  },
  {
   "cell_type": "markdown",
   "metadata": {
    "deletable": true,
    "editable": true
   },
   "source": [
    "### Lookup Table\n",
    "\n",
    "**To create a word embedding, you first need to transform the words to ids**. So, in this function, let's create two dictionaries:\n",
    "\n",
    "- Dictionary to go from the words to an id, we'll call `vocab_to_int`\n",
    "- Dictionary to go from the id to word, we'll call `int_to_vocab`\n",
    "\n",
    "Return these dictionaries in the following tuple `(vocab_to_int, int_to_vocab)`"
   ]
  },
  {
   "cell_type": "code",
   "execution_count": 3,
   "metadata": {
    "collapsed": false,
    "deletable": true,
    "editable": true
   },
   "outputs": [
    {
     "name": "stdout",
     "output_type": "stream",
     "text": [
      "Tests Passed\n"
     ]
    }
   ],
   "source": [
    "import numpy as np\n",
    "import problem_unittests as tests\n",
    "\n",
    "def create_lookup_tables(text):\n",
    "    \"\"\"\n",
    "    Create lookup tables for vocabulary\n",
    "    :param text: The text of tv scripts split into words\n",
    "    :return: A tuple of dicts (vocab_to_int, int_to_vocab)\n",
    "    \"\"\"\n",
    "    \n",
    "    vocab = set(text) # Make sure there are no duplicate toknes\n",
    "    vocab_to_int = {word:id for id, word in enumerate(vocab)} # enumerate and assign unique numeric id \n",
    "    int_to_vocab = {id:word for word, id in vocab_to_int.items()} # flip the dictionary\n",
    "    return (vocab_to_int, int_to_vocab)\n",
    "\n",
    "\n",
    "\"\"\"\n",
    "DON'T MODIFY ANYTHING IN THIS CELL THAT IS BELOW THIS LINE\n",
    "\"\"\"\n",
    "tests.test_create_lookup_tables(create_lookup_tables)"
   ]
  },
  {
   "cell_type": "markdown",
   "metadata": {
    "deletable": true,
    "editable": true
   },
   "source": [
    "### Tokenize Punctuation\n",
    "We'll be splitting the script into a word array using spaces as delimiters.  However, **punctuations like periods and exclamation marks make it hard for the neural network to distinguish between the word \"bye\" and \"bye!\"**.\n",
    "\n",
    "To avoid this, let's implement the function `token_lookup()` to return a dict that will be used to tokenize symbols like \"!\" into \"||Exclamation_Mark||\".  In fact, let's create a dictionary for the following symbols where the symbols are the key and value is the token:\n",
    "\n",
    "- Period ( . )\n",
    "- Comma ( , )\n",
    "- Quotation Mark ( \" )\n",
    "- Semicolon ( ; )\n",
    "- Exclamation mark ( ! )\n",
    "- Question mark ( ? )\n",
    "- Left Parentheses ( ( )\n",
    "- Right Parentheses ( ) )\n",
    "- Dash ( -- )\n",
    "- Return ( \\n )\n",
    "\n",
    "This dictionary will be used to token the symbols and add the delimiter (space) around it. The `||token||` notation ensures that the starts, stops, and other syntax of spoken english can be preserved in the model. \n",
    "\n",
    "It does this by directly separating the symbols as it's own word, making it easier for the neural network to predict on the next word; if a token could easily be confused as a word, that would lead to some particularly manged generational grammar. "
   ]
  },
  {
   "cell_type": "code",
   "execution_count": 4,
   "metadata": {
    "collapsed": false,
    "deletable": true,
    "editable": true
   },
   "outputs": [
    {
     "name": "stdout",
     "output_type": "stream",
     "text": [
      "Tests Passed\n"
     ]
    }
   ],
   "source": [
    "def token_lookup():\n",
    "    \"\"\"\n",
    "    Generate a dict to turn punctuation into a token.\n",
    "    :return: Tokenize dictionary where the key is the punctuation and the value is the token\n",
    "    \"\"\"\n",
    "    # Literally a dictionary lookup\n",
    "    return {'.':'||period||', \n",
    "            ',':'||comma||', \n",
    "            '\"':'||double_quotes||',\n",
    "            ';':'||semicolon||',\n",
    "            '!':'||exclamation_mark||',\n",
    "            '?':'||question_mark||',\n",
    "            '(':'||left_paren||',\n",
    "            ')':'||right_paren||',\n",
    "            '--':'||dash||',\n",
    "            '\\n':'||newline||'}\n",
    "\"\"\"\n",
    "DON'T MODIFY ANYTHING IN THIS CELL THAT IS BELOW THIS LINE\n",
    "\"\"\"\n",
    "tests.test_tokenize(token_lookup)"
   ]
  },
  {
   "cell_type": "markdown",
   "metadata": {
    "deletable": true,
    "editable": true
   },
   "source": [
    "## Save the Data\n",
    "Running the code cell below will preprocess all the data and save it to file."
   ]
  },
  {
   "cell_type": "code",
   "execution_count": 5,
   "metadata": {
    "collapsed": true,
    "deletable": true,
    "editable": true
   },
   "outputs": [],
   "source": [
    "\"\"\"\n",
    "DON'T MODIFY ANYTHING IN THIS CELL\n",
    "\"\"\"\n",
    "# Preprocess Training, Validation, and Testing Data\n",
    "helper.preprocess_and_save_data(data_dir, token_lookup, create_lookup_tables)"
   ]
  },
  {
   "cell_type": "markdown",
   "metadata": {
    "deletable": true,
    "editable": true
   },
   "source": [
    "# Check Point\n",
    "This is your first checkpoint. If you ever decide to come back to this notebook or have to restart the notebook, you can start from here, since the preprocessed data has been saved to disk."
   ]
  },
  {
   "cell_type": "code",
   "execution_count": 6,
   "metadata": {
    "collapsed": true,
    "deletable": true,
    "editable": true
   },
   "outputs": [],
   "source": [
    "\"\"\"\n",
    "DON'T MODIFY ANYTHING IN THIS CELL\n",
    "\"\"\"\n",
    "import helper\n",
    "import numpy as np\n",
    "import problem_unittests as tests\n",
    "\n",
    "int_text, vocab_to_int, int_to_vocab, token_dict = helper.load_preprocess()"
   ]
  },
  {
   "cell_type": "markdown",
   "metadata": {
    "deletable": true,
    "editable": true
   },
   "source": [
    "## Build the Neural Network\n",
    "You'll build the components necessary to build a RNN by implementing the following functions below:\n",
    "\n",
    "- **`get_inputs()`:** Create TF Placeholders to recieve data, hold targets, and set the learning rate. \n",
    "- **`get_init_cell()`:** Stack one or more [`BasicLSTMCells`](https://www.tensorflow.org/api_docs/python/tf/contrib/rnn/BasicLSTMCell) into a [`MultiRNNCell`](https://www.tensorflow.org/api_docs/python/tf/contrib/rnn/MultiRNNCell).\n",
    "- **`get_embed()`:** Use our dictionary functions to embed our words into a vector.\n",
    "- **`build_rnn()`:** Turn our LSTM `MultiRNNCell` cell structure into a Recurrent Neural Network using `tf.nn.dynamic_rnn)()`. \n",
    "- **`build_nn()`**: Join up the LSTM `MultiRNNCell` cells, but using no activation function for it's logits.\n",
    "- **`get_batches()`**: Turn our input and target vectors in paired batches we can use to train the network."
   ]
  },
  {
   "cell_type": "markdown",
   "metadata": {
    "deletable": true,
    "editable": true
   },
   "source": [
    "### Check the Version of TensorFlow and Access to GPU"
   ]
  },
  {
   "cell_type": "code",
   "execution_count": 7,
   "metadata": {
    "collapsed": false,
    "deletable": true,
    "editable": true
   },
   "outputs": [
    {
     "name": "stdout",
     "output_type": "stream",
     "text": [
      "TensorFlow Version: 1.0.0\n"
     ]
    },
    {
     "name": "stderr",
     "output_type": "stream",
     "text": [
      "/Users/vivek.menon/Documents/udacity/projects/tv-script-generation/lib/python3.6/site-packages/ipykernel_launcher.py:14: UserWarning: No GPU found. Please use a GPU to train your neural network.\n",
      "  \n"
     ]
    }
   ],
   "source": [
    "\"\"\"\n",
    "DON'T MODIFY ANYTHING IN THIS CELL\n",
    "\"\"\"\n",
    "from distutils.version import LooseVersion\n",
    "import warnings\n",
    "import tensorflow as tf\n",
    "\n",
    "# Check TensorFlow Version\n",
    "assert LooseVersion(tf.__version__) >= LooseVersion('1.0'), 'Please use TensorFlow version 1.0 or newer'\n",
    "print('TensorFlow Version: {}'.format(tf.__version__))\n",
    "\n",
    "# Check for a GPU\n",
    "if not tf.test.gpu_device_name():\n",
    "    warnings.warn('No GPU found. Please use a GPU to train your neural network.')\n",
    "else:\n",
    "    print('Default GPU Device: {}'.format(tf.test.gpu_device_name())) # FIXME: macOS cuda dependency error"
   ]
  },
  {
   "cell_type": "markdown",
   "metadata": {
    "deletable": true,
    "editable": true
   },
   "source": [
    "### Input\n",
    "Implement the `get_inputs()` function to create TF Placeholders for the Neural Network.  It should create the following placeholders:\n",
    "- Input text placeholder named \"input\" using the [TF Placeholder](https://www.tensorflow.org/api_docs/python/tf/placeholder) `name` parameter.\n",
    "- Targets placeholder\n",
    "- Learning Rate placeholder\n",
    "\n",
    "Return the placeholders in the following tuple `(Input, Targets, LearningRate)`"
   ]
  },
  {
   "cell_type": "code",
   "execution_count": 8,
   "metadata": {
    "collapsed": false,
    "deletable": true,
    "editable": true
   },
   "outputs": [
    {
     "name": "stdout",
     "output_type": "stream",
     "text": [
      "Tests Passed\n"
     ]
    }
   ],
   "source": [
    "def get_inputs():\n",
    "    \"\"\"\n",
    "    Create TF Placeholders for input, targets, and learning rate.\n",
    "    :return: Tuple (input, targets, learning rate)\n",
    "    \"\"\"\n",
    "    input = tf.placeholder( tf.int32, [None, None], name='input') # Empty int placeholder \n",
    "    targets = tf.placeholder(tf.int32, [None, None], name='targets') # Empty int placeholder\n",
    "    learning_rate = tf.placeholder(tf.float32, name='learning_rate') # Empty float placeholder\n",
    "    return (input, targets, learning_rate)\n",
    "\n",
    "\n",
    "\"\"\"\n",
    "DON'T MODIFY ANYTHING IN THIS CELL THAT IS BELOW THIS LINE\n",
    "\"\"\"\n",
    "tests.test_get_inputs(get_inputs)"
   ]
  },
  {
   "cell_type": "markdown",
   "metadata": {
    "deletable": true,
    "editable": true
   },
   "source": [
    "TensorFlow uses a **tensor data structure** to represent all data -- only tensors are passed between operations in the computation graph; essentially an n-dimensional array or list.\n",
    "\n",
    "![](https://leonardoaraujosantos.gitbooks.io/artificial-inteligence/content/Images/enter-the-matrix-10-638.jpg)\n",
    "\n",
    "A tensor has a **static type, a rank, and a shape**.\n",
    "\n",
    "* *Rank*: The number of dimensions of a tensor. [Tensor rank](http://mathworld.wolfram.com/TensorRank.html) is not the same as matrix rank; but it can sometimes be referred to as it's order, degree, or n-dimensions. For example, the following tensor (defined as a Python list) has a rank of 2:\n",
    "\n",
    "`t = [[1, 2, 3], [4, 5, 6], [7, 8, 9]]`\n",
    "\n",
    "For TensorFlow, rank basically refers to it's ability to have two lists: `[[],[],..].[[],[],[]]...`. Therefore, a *rank two tensor is what we typically think of as a matrix, a rank one tensor is a vector*, so we can access any element in a rank two tensor with the syntax `t[i, j]`, and for a rank three tensor we would need `t[i, j, k]`.\n",
    "\n",
    "Fantastic! You've perfectly used \"None\"'s to adequately create a dynamic sized placeholder variables.\n",
    "\n",
    "get_inputs function is correctly implemented. Seems that you have good grasp of TF Placeholder, I appreciate your efforts.\n",
    "There is a very good course offered by Stanford University, CS 20SI: Tensorflow for Deep Learning Research. This would help you in further understanding of Tensorflow and its application."
   ]
  },
  {
   "cell_type": "markdown",
   "metadata": {
    "deletable": true,
    "editable": true
   },
   "source": [
    "### Build RNN Cell and Initialize\n",
    "Stack one or more [`BasicLSTMCells`](https://www.tensorflow.org/api_docs/python/tf/contrib/rnn/BasicLSTMCell) in a [`MultiRNNCell`](https://www.tensorflow.org/api_docs/python/tf/contrib/rnn/MultiRNNCell).\n",
    "- The Rnn size should be set using `rnn_size`\n",
    "- Initalize Cell State using the MultiRNNCell's [`zero_state()`](https://www.tensorflow.org/api_docs/python/tf/contrib/rnn/MultiRNNCell#zero_state) function\n",
    "    - Apply the name \"initial_state\" to the initial state using [`tf.identity()`](https://www.tensorflow.org/api_docs/python/tf/identity)\n",
    "\n",
    "Return the cell and initial state in the following tuple `(Cell, InitialState)`"
   ]
  },
  {
   "cell_type": "code",
   "execution_count": 9,
   "metadata": {
    "collapsed": false,
    "deletable": true,
    "editable": true
   },
   "outputs": [
    {
     "name": "stdout",
     "output_type": "stream",
     "text": [
      "Tests Passed\n"
     ]
    }
   ],
   "source": [
    "def get_init_cell(batch_size, rnn_size):\n",
    "    \"\"\"\n",
    "    Create an RNN Cell and initialize it.\n",
    "    :param batch_size: Size of batches\n",
    "    :param rnn_size: Size of RNNs\n",
    "    :return: Tuple (cell, initialize state)\n",
    "    \"\"\"\n",
    "    cell = tf.contrib.rnn.BasicLSTMCell(rnn_size) # Create as many LSTM cells as required (256)\n",
    "    cell = tf.contrib.rnn.MultiRNNCell([cell]*1) # Line them up into a MultiRNN Cell\n",
    "    \n",
    "    initial_state = cell.zero_state(batch_size, tf.float32) # Set the initial state of the RNNs to 0\n",
    "    initial_state = tf.identity(initial_state, name= \"initial_state\") # Give it a name! \n",
    "    return (cell, initial_state)\n",
    "\n",
    "\n",
    "\"\"\"\n",
    "DON'T MODIFY ANYTHING IN THIS CELL THAT IS BELOW THIS LINE\n",
    "\"\"\"\n",
    "tests.test_get_init_cell(get_init_cell)"
   ]
  },
  {
   "cell_type": "markdown",
   "metadata": {
    "deletable": true,
    "editable": true
   },
   "source": [
    "![](http://cdn.collider.com/wp-content/uploads/starship-troopers.jpg)\n",
    "\n",
    "Here's are some **excellent** resources on [RNN's](http://karpathy.github.io/2015/05/21/rnn-effectiveness/) and [LSTM](http://colah.github.io/posts/2015-08-Understanding-LSTMs/) from some very heavy hitters."
   ]
  },
  {
   "cell_type": "markdown",
   "metadata": {
    "deletable": true,
    "editable": true
   },
   "source": [
    "### Word Embedding\n",
    "Apply embedding to `input_data` using TensorFlow.  Return the embedded sequence."
   ]
  },
  {
   "cell_type": "code",
   "execution_count": 10,
   "metadata": {
    "collapsed": false,
    "deletable": true,
    "editable": true
   },
   "outputs": [
    {
     "name": "stdout",
     "output_type": "stream",
     "text": [
      "Tensor(\"Variable/read:0\", shape=(27, 256), dtype=float32)\n",
      "Tests Passed\n"
     ]
    }
   ],
   "source": [
    "def get_embed(input_data, vocab_size, embed_dim):\n",
    "    \"\"\"\n",
    "    Create embedding for <input_data>.\n",
    "    :http://localhost:8888/notebooks/dlnd_tv_script_generation.ipynb#param input_data: TF placeholder for text input.\n",
    "    :param vocab_size: Number of words in vocabulary.\n",
    "    :param embed_dim: Number of embedding dimensions\n",
    "    :return: Embedded input.\n",
    "    \"\"\"\n",
    "    \n",
    "    #embedding = tf.contrib.layers.embed_sequence(ids=tf.placeholder(tf.int32, [vocab_size]), vocab_size=vocab_size, embed_dim=embed_dim)\n",
    "    embedding = tf.Variable(tf.random_uniform( (vocab_size, embed_dim))) # Create the right shaped embedding space (our rnn_size)\n",
    "    print(embedding)\n",
    "    \n",
    "    embed = tf.nn.embedding_lookup(embedding, input_data) # Embed our placeholder input data into our embedding variable\n",
    "    return embed\n",
    "\n",
    "\n",
    "\"\"\"\n",
    "DON'T MODIFY ANYTHING IN THIS CELL THAT IS BELOW THIS LINE\n",
    "\"\"\"\n",
    "tests.test_get_embed(get_embed)"
   ]
  },
  {
   "cell_type": "markdown",
   "metadata": {
    "deletable": true,
    "editable": true
   },
   "source": [
    "### Build RNN\n",
    "You created a RNN Cell in the `get_init_cell()` function.  Time to use the cell to create a RNN.\n",
    "- Build the RNN using the [`tf.nn.dynamic_rnn()`](https://www.tensorflow.org/api_docs/python/tf/nn/dynamic_rnn)\n",
    " - Apply the name \"final_state\" to the final state using [`tf.identity()`](https://www.tensorflow.org/api_docs/python/tf/identity)\n",
    "\n",
    "Return the outputs and final_state state in the following tuple `(Outputs, FinalState)` "
   ]
  },
  {
   "cell_type": "code",
   "execution_count": 11,
   "metadata": {
    "collapsed": false,
    "deletable": true,
    "editable": true
   },
   "outputs": [
    {
     "name": "stdout",
     "output_type": "stream",
     "text": [
      "Tests Passed\n"
     ]
    }
   ],
   "source": [
    "def build_rnn(cell, inputs):\n",
    "    \"\"\"\n",
    "    Create a RNN using a RNN Cell\n",
    "    :param cell: RNN Cell\n",
    "    :param inputs: Input text data\n",
    "    :return: Tuple (Outputs, Final State)\n",
    "    \"\"\"\n",
    "    outputs, final_state = tf.nn.dynamic_rnn(cell, inputs, dtype=tf.float32) # Use our cells and input placeholder\n",
    "    final_state = tf.identity(final_state, name=\"final_state\") # Name it again!\n",
    "    return (outputs, final_state)\n",
    "\n",
    "\n",
    "\n",
    "\"\"\"\n",
    "DON'T MODIFY ANYTHING IN THIS CELL THAT IS BELOW THIS LINE\n",
    "\"\"\"\n",
    "tests.test_build_rnn(build_rnn)"
   ]
  },
  {
   "cell_type": "markdown",
   "metadata": {
    "deletable": true,
    "editable": true
   },
   "source": [
    "    \"It might be necessary to add an Embedding layer just before the RNN to embed the words into a smaller dimensional space. Since the LSTM operates linearly over its input X, then linearly embedding the 1-of-K words to some embedding dimension D first corresponds to the original case you tried to get working here, except the matrix is factored through a rank D-dimensional bottleneck. If that makes sense.\n",
    "\n",
    "    Also, it is common to keep track of frequency of all words and discard words that appear, say, less than 5 times in the dataset.\" \n",
    "    \n",
    "From [Andrej Karpathy](https://twitter.com/karpathy?ref_src=twsrc%5Egoogle%7Ctwcamp%5Eserp%7Ctwgr%5Eauthor). "
   ]
  },
  {
   "cell_type": "markdown",
   "metadata": {
    "deletable": true,
    "editable": true
   },
   "source": [
    "### Build the Neural Network\n",
    "Apply the functions you implemented above to:\n",
    "- Apply embedding to `input_data` using your `get_embed(input_data, vocab_size, embed_dim)` function.\n",
    "- Build RNN using `cell` and your `build_rnn(cell, inputs)` function.\n",
    "- Apply a fully connected layer with a linear activation and `vocab_size` as the number of outputs.\n",
    "\n",
    "Return the logits and final state in the following tuple (Logits, FinalState) "
   ]
  },
  {
   "cell_type": "code",
   "execution_count": 12,
   "metadata": {
    "collapsed": false,
    "deletable": true,
    "editable": true
   },
   "outputs": [
    {
     "name": "stdout",
     "output_type": "stream",
     "text": [
      "Tensor(\"Variable/read:0\", shape=(27, 256), dtype=float32)\n",
      "Tests Passed\n"
     ]
    }
   ],
   "source": [
    "def build_nn(cell, rnn_size, input_data, vocab_size, embed_dim):\n",
    "    \"\"\"\n",
    "    Build part of the neural network\n",
    "    :param cell: RNN cell\n",
    "    :param rnn_size: Size of rnns\n",
    "    :param input_data: Input data\n",
    "    :param vocab_size: Vocabulary size\n",
    "    :param embed_dim: Number of embedding dimensions\n",
    "    :return: Tuple (Logits, FinalState)\n",
    "    \"\"\"\n",
    "    embedded_inputs = get_embed(input_data, vocab_size, rnn_size) # Embed our input data (of length vocab_size) into an rnn-shaped space\n",
    "    outputs, final_state = build_rnn(cell, embedded_inputs) # Build our rnn using Multicell LSTM and our embedded inputs\n",
    "    logits = tf.contrib.layers.fully_connected(outputs, vocab_size, activation_fn=None) # Connect our layers, linking vocab_size with our outputs, and a linear activation fn\n",
    "    \n",
    "    return (logits, final_state)\n",
    "\n",
    "\n",
    "\n",
    "\"\"\"\n",
    "DON'T MODIFY ANYTHING IN THIS CELL THAT IS BELOW THIS LINE\n",
    "\"\"\"\n",
    "tests.test_build_nn(build_nn)"
   ]
  },
  {
   "cell_type": "markdown",
   "metadata": {
    "deletable": true,
    "editable": true
   },
   "source": [
    "### Batches\n",
    "\n",
    "Now let's implement `get_batches` to create batches of input and targets using `int_text`.  The batches should be a `numpy` array with the shape: `(number of batches, 2, batch size, sequence length)`. \n",
    "\n",
    "This is because each batch contains two elements:\n",
    "- The first element is a single batch of **input** with the shape `[batch size, sequence length]`\n",
    "- The second element is a single batch of **targets** with the shape `[batch size, sequence length]`\n",
    "\n",
    "Also, if we can't fill the last batch with enough data, we should drop the last batch (otherwise our shapes will be broken). "
   ]
  },
  {
   "cell_type": "markdown",
   "metadata": {
    "deletable": true,
    "editable": true
   },
   "source": [
    "For example:\n",
    "`get_batches([1, 2, 3, 4, 5, 6, 7, 8, 9, 10, 11, 12, 13, 14, 15, 16, 17, 18, 19, 20], 3, 2)` should attempt to put this list into batches of 3 entries (each with a pair of 2 words), slicing off the entries that don't fit into this multiple of 3 system (`19, 20`). \n",
    "\n",
    "i.e. a `numpy` array like the following:\n",
    "\n",
    "```\n",
    "[\n",
    "  # First Batch\n",
    "  [\n",
    "    # Batch of Input\n",
    "    [[ 1  2], [ 7  8], [13 14]]\n",
    "    # Batch of targets\n",
    "    [[ 2  3], [ 8  9], [14 15]]\n",
    "  ]\n",
    "\n",
    "  # Second Batch\n",
    "  [\n",
    "    # Batch of Input\n",
    "    [[ 3  4], [ 9 10], [15 16]]\n",
    "    # Batch of targets\n",
    "    [[ 4  5], [10 11], [16 17]]\n",
    "  ]\n",
    "\n",
    "  # Third Batch\n",
    "  [\n",
    "    # Batch of Input\n",
    "    [[ 5  6], [11 12], [17 18]]\n",
    "    # Batch of targets\n",
    "    [[ 6  7], [12 13], [18  1]]\n",
    "  ]\n",
    "]\n",
    "```\n",
    "\n",
    "Notice that the last target value in the last batch is the first input value of the first batch. In this case, `1`. This is a common technique used when creating sequence batches, although it is rather unintuitive."
   ]
  },
  {
   "cell_type": "code",
   "execution_count": 13,
   "metadata": {
    "collapsed": false,
    "deletable": true,
    "editable": true
   },
   "outputs": [
    {
     "name": "stdout",
     "output_type": "stream",
     "text": [
      "Tests Passed\n"
     ]
    }
   ],
   "source": [
    "def get_batches(int_text, batch_size, seq_length):\n",
    "    \"\"\"\n",
    "    Return batches of input and target\n",
    "    :param int_text: Text with the words replaced by their ids\n",
    "    :param batch_size: The size of batch\n",
    "    :param seq_length: The length of sequence\n",
    "    :return: Batches as a Numpy array\n",
    "    \"\"\"\n",
    "\n",
    "    n_batches = len(int_text) // (batch_size * seq_length) # How many batches do we need? Floor for int\n",
    "\n",
    "    # Drop the last few characters to make only full batches\n",
    "    x_vector = np.array(int_text[: n_batches * batch_size * seq_length]) # From start: last batch * batch size * seq length in batch\n",
    "    y_vector = np.array(int_text[1: n_batches * batch_size * seq_length + 1]) # From second to last++\n",
    "    y_vector[-1] = x_vector[0] # Jk, last is now the first element in our data for wraparound\n",
    "    \n",
    "    x_matrix = x_vector.reshape(batch_size, -1) # Shape is inferred from the length of th array and remaining dims?!\n",
    "    y_matrix = y_vector.reshape(batch_size, -1) # What sorcery is this\n",
    "\n",
    "    x_tensor = np.split(x_matrix, n_batches, 1) # Whoah, just split reshaped the matrix into a lists of lists of sequences\n",
    "    y_tensor = np.split(y_matrix, n_batches, 1) # We tensor now\n",
    "    \n",
    "    batches = np.array(list(zip(x_tensor, y_tensor))) # Batch Tensors up \n",
    "    \n",
    "    return batches\n",
    "\n",
    "\"\"\"\n",
    "DON'T MODIFY ANYTHING IN THIS CELL THAT IS BELOW THIS LINE\n",
    "\"\"\"\n",
    "tests.test_get_batches(get_batches)"
   ]
  },
  {
   "cell_type": "code",
   "execution_count": 14,
   "metadata": {
    "collapsed": false,
    "deletable": true,
    "editable": true
   },
   "outputs": [],
   "source": [
    "## Original submission. Ineffecient; use native operations like splits instead of for loops\n",
    "# def get_batches(int_text, batch_size, seq_length):\n",
    "#     \"\"\"\n",
    "#     Return batches of input and target\n",
    "#     :param int_text: Text with the words replaced by their ids\n",
    "#     :param batch_size: The size of batch\n",
    "#     :param seq_length: The length of sequence\n",
    "#     :return: Batches as a Numpy array\n",
    "#     \"\"\"\n",
    "\n",
    "#     n_batches = len(int_text) // (batch_size * seq_length) # How many batches do we need? Floor div for int\n",
    "#     data_len = n_batches * batch_size * seq_length # How many entries are we dealing with? (4480)\n",
    "    \n",
    "#     inputs = int_text[:data_len] # Input sequence starts at entry 0\n",
    "#     targets = int_text[1:data_len] # Target sequence starts at entry 1\n",
    "#     targets.append(int_text[0]) # Append first value of input to last value of target\n",
    "    \n",
    "#     x_reshape = np.reshape(inputs, (batch_size,n_batches, seq_length))  # Let's reshape this long sequence into n batches of our desired length\n",
    "#     y_reshape = np.reshape(targets, (batch_size,n_batches, seq_length)) # Same for the target vector\n",
    "    \n",
    "#     result = [] # Empty array for inserting\n",
    "#     for i in range(n_batches):\n",
    "#         x = x_reshape[:, i] # The i entry in the input vector\n",
    "#         y = y_reshape[:, i] # Gets matched with i target vector\n",
    "#         batch_row = [x, y] # And bundlded together in a list of lists\n",
    "#         result.append(batch_row) #And appended ot our empty list\n",
    "        \n",
    "#     return np.array(result) # Let's return this result\n",
    "    \n",
    "\n",
    "# \"\"\"\n",
    "# DON'T MODIFY ANYTHING IN THIS CELL THAT IS BELOW THIS LINE\n",
    "# \"\"\"\n",
    "# tests.test_get_batches(get_batches)"
   ]
  },
  {
   "cell_type": "markdown",
   "metadata": {
    "deletable": true,
    "editable": true
   },
   "source": [
    "## Neural Network Training\n",
    "### Hyperparameters\n",
    "Tune the following parameters:\n",
    "\n",
    "- Set `num_epochs` to the number of epochs.\n",
    "- Set `batch_size` to the batch size.\n",
    "- Set `rnn_size` to the size of the RNNs.\n",
    "- Set `embed_dim` to the size of the embedding.\n",
    "- Set `seq_length` to the length of sequence.\n",
    "- Set `learning_rate` to the learning rate.\n",
    "- Set `show_every_n_batches` to the number of batches the neural network should print progress."
   ]
  },
  {
   "cell_type": "code",
   "execution_count": 18,
   "metadata": {
    "collapsed": true,
    "deletable": true,
    "editable": true
   },
   "outputs": [],
   "source": [
    "# Number of Epochs\n",
    "num_epochs = 100 \n",
    "\n",
    "# Batch Size\n",
    "batch_size = 128 \n",
    "\n",
    "# RNN Size\n",
    "rnn_size = 256\n",
    "\n",
    "# Embedding Dimension Size\n",
    "embed_dim = 256\n",
    "\n",
    "# Sequence Length\n",
    "seq_length = 12 \n",
    "\n",
    "# Learning Rate\n",
    "learning_rate = 0.01\n",
    "\n",
    "# Show stats for every n number of batches\n",
    "show_every_n_batches = 10\n",
    "\n",
    "\"\"\"\n",
    "DON'T MODIFY ANYTHING IN THIS CELL THAT IS BELOW THIS LINE\n",
    "\"\"\"\n",
    "save_dir = './save'"
   ]
  },
  {
   "cell_type": "markdown",
   "metadata": {
    "deletable": true,
    "editable": true
   },
   "source": [
    "### Build the Graph\n",
    "Build the graph using the neural network you implemented."
   ]
  },
  {
   "cell_type": "code",
   "execution_count": 16,
   "metadata": {
    "collapsed": false,
    "deletable": true,
    "editable": true
   },
   "outputs": [
    {
     "name": "stdout",
     "output_type": "stream",
     "text": [
      "Tensor(\"Variable/read:0\", shape=(6779, 256), dtype=float32)\n"
     ]
    }
   ],
   "source": [
    "\"\"\"\n",
    "DON'T MODIFY ANYTHING IN THIS CELL\n",
    "\"\"\"\n",
    "from tensorflow.contrib import seq2seq\n",
    "\n",
    "train_graph = tf.Graph()\n",
    "with train_graph.as_default():\n",
    "    vocab_size = len(int_to_vocab)\n",
    "    input_text, targets, lr = get_inputs()\n",
    "    input_data_shape = tf.shape(input_text)\n",
    "    cell, initial_state = get_init_cell(input_data_shape[0], rnn_size)\n",
    "    logits, final_state = build_nn(cell, rnn_size, input_text, vocab_size, embed_dim)\n",
    "\n",
    "    # Probabilities for generating words\n",
    "    probs = tf.nn.softmax(logits, name='probs')\n",
    "\n",
    "    # Loss function\n",
    "    cost = seq2seq.sequence_loss(\n",
    "        logits,\n",
    "        targets,\n",
    "        tf.ones([input_data_shape[0], input_data_shape[1]]))\n",
    "\n",
    "    # Optimizer\n",
    "    optimizer = tf.train.AdamOptimizer(lr)\n",
    "\n",
    "    # Gradient Clipping\n",
    "    gradients = optimizer.compute_gradients(cost)\n",
    "    capped_gradients = [(tf.clip_by_value(grad, -1., 1.), var) for grad, var in gradients if grad is not None]\n",
    "    train_op = optimizer.apply_gradients(capped_gradients)"
   ]
  },
  {
   "cell_type": "markdown",
   "metadata": {
    "deletable": true,
    "editable": true
   },
   "source": [
    "## Train\n",
    "Train the neural network on the preprocessed data.  If you have a hard time getting a good loss, check the [forms](https://discussions.udacity.com/) to see if anyone is having the same problem."
   ]
  },
  {
   "cell_type": "code",
   "execution_count": 17,
   "metadata": {
    "collapsed": false,
    "deletable": true,
    "editable": true,
    "scrolled": false
   },
   "outputs": [
    {
     "name": "stdout",
     "output_type": "stream",
     "text": [
      "Epoch   0 Batch    0/44   train_loss = 8.820\n",
      "Epoch   0 Batch   10/44   train_loss = 7.019\n",
      "Epoch   0 Batch   20/44   train_loss = 6.793\n",
      "Epoch   0 Batch   30/44   train_loss = 6.812\n",
      "Epoch   0 Batch   40/44   train_loss = 6.601\n",
      "Epoch   1 Batch    6/44   train_loss = 6.145\n",
      "Epoch   1 Batch   16/44   train_loss = 6.332\n",
      "Epoch   1 Batch   26/44   train_loss = 6.349\n",
      "Epoch   1 Batch   36/44   train_loss = 6.349\n",
      "Epoch   2 Batch    2/44   train_loss = 6.228\n",
      "Epoch   2 Batch   12/44   train_loss = 6.248\n",
      "Epoch   2 Batch   22/44   train_loss = 6.261\n",
      "Epoch   2 Batch   32/44   train_loss = 6.278\n",
      "Epoch   2 Batch   42/44   train_loss = 6.448\n",
      "Epoch   3 Batch    8/44   train_loss = 6.304\n",
      "Epoch   3 Batch   18/44   train_loss = 6.263\n",
      "Epoch   3 Batch   28/44   train_loss = 6.319\n",
      "Epoch   3 Batch   38/44   train_loss = 6.219\n",
      "Epoch   4 Batch    4/44   train_loss = 6.078\n",
      "Epoch   4 Batch   14/44   train_loss = 5.985\n",
      "Epoch   4 Batch   24/44   train_loss = 5.758\n",
      "Epoch   4 Batch   34/44   train_loss = 5.628\n",
      "Epoch   5 Batch    0/44   train_loss = 5.279\n",
      "Epoch   5 Batch   10/44   train_loss = 5.358\n",
      "Epoch   5 Batch   20/44   train_loss = 5.096\n",
      "Epoch   5 Batch   30/44   train_loss = 5.126\n",
      "Epoch   5 Batch   40/44   train_loss = 4.986\n",
      "Epoch   6 Batch    6/44   train_loss = 4.711\n",
      "Epoch   6 Batch   16/44   train_loss = 4.845\n",
      "Epoch   6 Batch   26/44   train_loss = 4.722\n",
      "Epoch   6 Batch   36/44   train_loss = 4.766\n",
      "Epoch   7 Batch    2/44   train_loss = 4.431\n",
      "Epoch   7 Batch   12/44   train_loss = 4.495\n",
      "Epoch   7 Batch   22/44   train_loss = 4.474\n",
      "Epoch   7 Batch   32/44   train_loss = 4.462\n",
      "Epoch   7 Batch   42/44   train_loss = 4.508\n",
      "Epoch   8 Batch    8/44   train_loss = 4.427\n",
      "Epoch   8 Batch   18/44   train_loss = 4.440\n",
      "Epoch   8 Batch   28/44   train_loss = 4.396\n",
      "Epoch   8 Batch   38/44   train_loss = 4.228\n",
      "Epoch   9 Batch    4/44   train_loss = 4.120\n",
      "Epoch   9 Batch   14/44   train_loss = 4.322\n",
      "Epoch   9 Batch   24/44   train_loss = 4.223\n",
      "Epoch   9 Batch   34/44   train_loss = 4.184\n",
      "Epoch  10 Batch    0/44   train_loss = 4.056\n",
      "Epoch  10 Batch   10/44   train_loss = 4.169\n",
      "Epoch  10 Batch   20/44   train_loss = 4.045\n",
      "Epoch  10 Batch   30/44   train_loss = 4.112\n",
      "Epoch  10 Batch   40/44   train_loss = 4.051\n",
      "Epoch  11 Batch    6/44   train_loss = 3.910\n",
      "Epoch  11 Batch   16/44   train_loss = 4.004\n",
      "Epoch  11 Batch   26/44   train_loss = 3.894\n",
      "Epoch  11 Batch   36/44   train_loss = 4.007\n",
      "Epoch  12 Batch    2/44   train_loss = 3.803\n",
      "Epoch  12 Batch   12/44   train_loss = 3.807\n",
      "Epoch  12 Batch   22/44   train_loss = 3.867\n",
      "Epoch  12 Batch   32/44   train_loss = 3.772\n",
      "Epoch  12 Batch   42/44   train_loss = 3.733\n",
      "Epoch  13 Batch    8/44   train_loss = 3.751\n",
      "Epoch  13 Batch   18/44   train_loss = 3.762\n",
      "Epoch  13 Batch   28/44   train_loss = 3.729\n",
      "Epoch  13 Batch   38/44   train_loss = 3.567\n",
      "Epoch  14 Batch    4/44   train_loss = 3.522\n",
      "Epoch  14 Batch   14/44   train_loss = 3.587\n",
      "Epoch  14 Batch   24/44   train_loss = 3.554\n",
      "Epoch  14 Batch   34/44   train_loss = 3.541\n",
      "Epoch  15 Batch    0/44   train_loss = 3.494\n",
      "Epoch  15 Batch   10/44   train_loss = 3.483\n",
      "Epoch  15 Batch   20/44   train_loss = 3.409\n",
      "Epoch  15 Batch   30/44   train_loss = 3.480\n",
      "Epoch  15 Batch   40/44   train_loss = 3.459\n",
      "Epoch  16 Batch    6/44   train_loss = 3.323\n",
      "Epoch  16 Batch   16/44   train_loss = 3.390\n",
      "Epoch  16 Batch   26/44   train_loss = 3.296\n",
      "Epoch  16 Batch   36/44   train_loss = 3.465\n",
      "Epoch  17 Batch    2/44   train_loss = 3.241\n",
      "Epoch  17 Batch   12/44   train_loss = 3.294\n",
      "Epoch  17 Batch   22/44   train_loss = 3.303\n",
      "Epoch  17 Batch   32/44   train_loss = 3.254\n",
      "Epoch  17 Batch   42/44   train_loss = 3.188\n",
      "Epoch  18 Batch    8/44   train_loss = 3.189\n",
      "Epoch  18 Batch   18/44   train_loss = 3.262\n",
      "Epoch  18 Batch   28/44   train_loss = 3.176\n",
      "Epoch  18 Batch   38/44   train_loss = 3.066\n",
      "Epoch  19 Batch    4/44   train_loss = 2.989\n",
      "Epoch  19 Batch   14/44   train_loss = 3.063\n",
      "Epoch  19 Batch   24/44   train_loss = 2.999\n",
      "Epoch  19 Batch   34/44   train_loss = 3.012\n",
      "Epoch  20 Batch    0/44   train_loss = 2.993\n",
      "Epoch  20 Batch   10/44   train_loss = 2.920\n",
      "Epoch  20 Batch   20/44   train_loss = 2.894\n",
      "Epoch  20 Batch   30/44   train_loss = 2.974\n",
      "Epoch  20 Batch   40/44   train_loss = 2.972\n",
      "Epoch  21 Batch    6/44   train_loss = 2.854\n",
      "Epoch  21 Batch   16/44   train_loss = 2.929\n",
      "Epoch  21 Batch   26/44   train_loss = 2.834\n",
      "Epoch  21 Batch   36/44   train_loss = 3.005\n",
      "Epoch  22 Batch    2/44   train_loss = 2.837\n",
      "Epoch  22 Batch   12/44   train_loss = 2.837\n",
      "Epoch  22 Batch   22/44   train_loss = 2.852\n",
      "Epoch  22 Batch   32/44   train_loss = 2.793\n",
      "Epoch  22 Batch   42/44   train_loss = 2.754\n",
      "Epoch  23 Batch    8/44   train_loss = 2.744\n",
      "Epoch  23 Batch   18/44   train_loss = 2.798\n",
      "Epoch  23 Batch   28/44   train_loss = 2.741\n",
      "Epoch  23 Batch   38/44   train_loss = 2.630\n",
      "Epoch  24 Batch    4/44   train_loss = 2.584\n",
      "Epoch  24 Batch   14/44   train_loss = 2.588\n",
      "Epoch  24 Batch   24/44   train_loss = 2.558\n",
      "Epoch  24 Batch   34/44   train_loss = 2.572\n",
      "Epoch  25 Batch    0/44   train_loss = 2.587\n",
      "Epoch  25 Batch   10/44   train_loss = 2.511\n",
      "Epoch  25 Batch   20/44   train_loss = 2.481\n",
      "Epoch  25 Batch   30/44   train_loss = 2.555\n",
      "Epoch  25 Batch   40/44   train_loss = 2.533\n",
      "Epoch  26 Batch    6/44   train_loss = 2.431\n",
      "Epoch  26 Batch   16/44   train_loss = 2.517\n",
      "Epoch  26 Batch   26/44   train_loss = 2.397\n",
      "Epoch  26 Batch   36/44   train_loss = 2.567\n",
      "Epoch  27 Batch    2/44   train_loss = 2.442\n",
      "Epoch  27 Batch   12/44   train_loss = 2.465\n",
      "Epoch  27 Batch   22/44   train_loss = 2.438\n",
      "Epoch  27 Batch   32/44   train_loss = 2.425\n",
      "Epoch  27 Batch   42/44   train_loss = 2.342\n",
      "Epoch  28 Batch    8/44   train_loss = 2.331\n",
      "Epoch  28 Batch   18/44   train_loss = 2.399\n",
      "Epoch  28 Batch   28/44   train_loss = 2.312\n",
      "Epoch  28 Batch   38/44   train_loss = 2.291\n",
      "Epoch  29 Batch    4/44   train_loss = 2.201\n",
      "Epoch  29 Batch   14/44   train_loss = 2.219\n",
      "Epoch  29 Batch   24/44   train_loss = 2.191\n",
      "Epoch  29 Batch   34/44   train_loss = 2.213\n",
      "Epoch  30 Batch    0/44   train_loss = 2.237\n",
      "Epoch  30 Batch   10/44   train_loss = 2.153\n",
      "Epoch  30 Batch   20/44   train_loss = 2.114\n",
      "Epoch  30 Batch   30/44   train_loss = 2.143\n",
      "Epoch  30 Batch   40/44   train_loss = 2.175\n",
      "Epoch  31 Batch    6/44   train_loss = 2.089\n",
      "Epoch  31 Batch   16/44   train_loss = 2.175\n",
      "Epoch  31 Batch   26/44   train_loss = 2.088\n",
      "Epoch  31 Batch   36/44   train_loss = 2.196\n",
      "Epoch  32 Batch    2/44   train_loss = 2.118\n",
      "Epoch  32 Batch   12/44   train_loss = 2.124\n",
      "Epoch  32 Batch   22/44   train_loss = 2.124\n",
      "Epoch  32 Batch   32/44   train_loss = 2.108\n",
      "Epoch  32 Batch   42/44   train_loss = 2.022\n",
      "Epoch  33 Batch    8/44   train_loss = 1.983\n",
      "Epoch  33 Batch   18/44   train_loss = 2.061\n",
      "Epoch  33 Batch   28/44   train_loss = 2.006\n",
      "Epoch  33 Batch   38/44   train_loss = 1.990\n",
      "Epoch  34 Batch    4/44   train_loss = 1.942\n",
      "Epoch  34 Batch   14/44   train_loss = 1.910\n",
      "Epoch  34 Batch   24/44   train_loss = 1.883\n",
      "Epoch  34 Batch   34/44   train_loss = 1.902\n",
      "Epoch  35 Batch    0/44   train_loss = 1.947\n",
      "Epoch  35 Batch   10/44   train_loss = 1.850\n",
      "Epoch  35 Batch   20/44   train_loss = 1.832\n",
      "Epoch  35 Batch   30/44   train_loss = 1.855\n",
      "Epoch  35 Batch   40/44   train_loss = 1.912\n",
      "Epoch  36 Batch    6/44   train_loss = 1.822\n",
      "Epoch  36 Batch   16/44   train_loss = 1.881\n",
      "Epoch  36 Batch   26/44   train_loss = 1.812\n",
      "Epoch  36 Batch   36/44   train_loss = 1.923\n",
      "Epoch  37 Batch    2/44   train_loss = 1.834\n",
      "Epoch  37 Batch   12/44   train_loss = 1.833\n",
      "Epoch  37 Batch   22/44   train_loss = 1.827\n",
      "Epoch  37 Batch   32/44   train_loss = 1.843\n",
      "Epoch  37 Batch   42/44   train_loss = 1.793\n",
      "Epoch  38 Batch    8/44   train_loss = 1.756\n",
      "Epoch  38 Batch   18/44   train_loss = 1.800\n",
      "Epoch  38 Batch   28/44   train_loss = 1.714\n",
      "Epoch  38 Batch   38/44   train_loss = 1.774\n",
      "Epoch  39 Batch    4/44   train_loss = 1.693\n",
      "Epoch  39 Batch   14/44   train_loss = 1.652\n",
      "Epoch  39 Batch   24/44   train_loss = 1.647\n",
      "Epoch  39 Batch   34/44   train_loss = 1.630\n",
      "Epoch  40 Batch    0/44   train_loss = 1.707\n",
      "Epoch  40 Batch   10/44   train_loss = 1.585\n",
      "Epoch  40 Batch   20/44   train_loss = 1.593\n",
      "Epoch  40 Batch   30/44   train_loss = 1.589\n",
      "Epoch  40 Batch   40/44   train_loss = 1.655\n",
      "Epoch  41 Batch    6/44   train_loss = 1.563\n",
      "Epoch  41 Batch   16/44   train_loss = 1.621\n",
      "Epoch  41 Batch   26/44   train_loss = 1.605\n",
      "Epoch  41 Batch   36/44   train_loss = 1.642\n",
      "Epoch  42 Batch    2/44   train_loss = 1.633\n",
      "Epoch  42 Batch   12/44   train_loss = 1.614\n",
      "Epoch  42 Batch   22/44   train_loss = 1.596\n",
      "Epoch  42 Batch   32/44   train_loss = 1.602\n",
      "Epoch  42 Batch   42/44   train_loss = 1.556\n",
      "Epoch  43 Batch    8/44   train_loss = 1.525\n",
      "Epoch  43 Batch   18/44   train_loss = 1.565\n",
      "Epoch  43 Batch   28/44   train_loss = 1.509\n",
      "Epoch  43 Batch   38/44   train_loss = 1.557\n",
      "Epoch  44 Batch    4/44   train_loss = 1.504\n",
      "Epoch  44 Batch   14/44   train_loss = 1.432\n",
      "Epoch  44 Batch   24/44   train_loss = 1.439\n",
      "Epoch  44 Batch   34/44   train_loss = 1.468\n",
      "Epoch  45 Batch    0/44   train_loss = 1.526\n",
      "Epoch  45 Batch   10/44   train_loss = 1.397\n",
      "Epoch  45 Batch   20/44   train_loss = 1.385\n",
      "Epoch  45 Batch   30/44   train_loss = 1.407\n",
      "Epoch  45 Batch   40/44   train_loss = 1.477\n",
      "Epoch  46 Batch    6/44   train_loss = 1.399\n",
      "Epoch  46 Batch   16/44   train_loss = 1.451\n",
      "Epoch  46 Batch   26/44   train_loss = 1.404\n",
      "Epoch  46 Batch   36/44   train_loss = 1.480\n",
      "Epoch  47 Batch    2/44   train_loss = 1.444\n",
      "Epoch  47 Batch   12/44   train_loss = 1.438\n",
      "Epoch  47 Batch   22/44   train_loss = 1.407\n",
      "Epoch  47 Batch   32/44   train_loss = 1.447\n",
      "Epoch  47 Batch   42/44   train_loss = 1.372\n",
      "Epoch  48 Batch    8/44   train_loss = 1.354\n",
      "Epoch  48 Batch   18/44   train_loss = 1.402\n",
      "Epoch  48 Batch   28/44   train_loss = 1.342\n",
      "Epoch  48 Batch   38/44   train_loss = 1.427\n",
      "Epoch  49 Batch    4/44   train_loss = 1.349\n",
      "Epoch  49 Batch   14/44   train_loss = 1.266\n",
      "Epoch  49 Batch   24/44   train_loss = 1.266\n",
      "Epoch  49 Batch   34/44   train_loss = 1.293\n",
      "Epoch  50 Batch    0/44   train_loss = 1.339\n",
      "Epoch  50 Batch   10/44   train_loss = 1.274\n",
      "Epoch  50 Batch   20/44   train_loss = 1.209\n",
      "Epoch  50 Batch   30/44   train_loss = 1.225\n",
      "Epoch  50 Batch   40/44   train_loss = 1.307\n",
      "Epoch  51 Batch    6/44   train_loss = 1.251\n",
      "Epoch  51 Batch   16/44   train_loss = 1.266\n",
      "Epoch  51 Batch   26/44   train_loss = 1.221\n",
      "Epoch  51 Batch   36/44   train_loss = 1.331\n",
      "Epoch  52 Batch    2/44   train_loss = 1.282\n",
      "Epoch  52 Batch   12/44   train_loss = 1.317\n",
      "Epoch  52 Batch   22/44   train_loss = 1.274\n",
      "Epoch  52 Batch   32/44   train_loss = 1.281\n",
      "Epoch  52 Batch   42/44   train_loss = 1.223\n",
      "Epoch  53 Batch    8/44   train_loss = 1.201\n",
      "Epoch  53 Batch   18/44   train_loss = 1.255\n",
      "Epoch  53 Batch   28/44   train_loss = 1.170\n",
      "Epoch  53 Batch   38/44   train_loss = 1.285\n",
      "Epoch  54 Batch    4/44   train_loss = 1.210\n",
      "Epoch  54 Batch   14/44   train_loss = 1.171\n",
      "Epoch  54 Batch   24/44   train_loss = 1.149\n",
      "Epoch  54 Batch   34/44   train_loss = 1.165\n",
      "Epoch  55 Batch    0/44   train_loss = 1.210\n",
      "Epoch  55 Batch   10/44   train_loss = 1.141\n",
      "Epoch  55 Batch   20/44   train_loss = 1.107\n",
      "Epoch  55 Batch   30/44   train_loss = 1.101\n",
      "Epoch  55 Batch   40/44   train_loss = 1.160\n",
      "Epoch  56 Batch    6/44   train_loss = 1.140\n",
      "Epoch  56 Batch   16/44   train_loss = 1.148\n",
      "Epoch  56 Batch   26/44   train_loss = 1.112\n",
      "Epoch  56 Batch   36/44   train_loss = 1.189\n",
      "Epoch  57 Batch    2/44   train_loss = 1.170\n",
      "Epoch  57 Batch   12/44   train_loss = 1.178\n",
      "Epoch  57 Batch   22/44   train_loss = 1.126\n",
      "Epoch  57 Batch   32/44   train_loss = 1.143\n",
      "Epoch  57 Batch   42/44   train_loss = 1.098\n",
      "Epoch  58 Batch    8/44   train_loss = 1.072\n",
      "Epoch  58 Batch   18/44   train_loss = 1.118\n",
      "Epoch  58 Batch   28/44   train_loss = 1.034\n",
      "Epoch  58 Batch   38/44   train_loss = 1.144\n",
      "Epoch  59 Batch    4/44   train_loss = 1.093\n",
      "Epoch  59 Batch   14/44   train_loss = 1.038\n",
      "Epoch  59 Batch   24/44   train_loss = 1.029\n",
      "Epoch  59 Batch   34/44   train_loss = 1.010\n",
      "Epoch  60 Batch    0/44   train_loss = 1.072\n",
      "Epoch  60 Batch   10/44   train_loss = 1.029\n",
      "Epoch  60 Batch   20/44   train_loss = 0.985\n",
      "Epoch  60 Batch   30/44   train_loss = 0.987\n",
      "Epoch  60 Batch   40/44   train_loss = 1.036\n",
      "Epoch  61 Batch    6/44   train_loss = 1.033\n",
      "Epoch  61 Batch   16/44   train_loss = 1.043\n",
      "Epoch  61 Batch   26/44   train_loss = 0.988\n",
      "Epoch  61 Batch   36/44   train_loss = 1.081\n",
      "Epoch  62 Batch    2/44   train_loss = 1.063\n",
      "Epoch  62 Batch   12/44   train_loss = 1.066\n",
      "Epoch  62 Batch   22/44   train_loss = 1.031\n",
      "Epoch  62 Batch   32/44   train_loss = 1.040\n",
      "Epoch  62 Batch   42/44   train_loss = 0.983\n",
      "Epoch  63 Batch    8/44   train_loss = 0.977\n",
      "Epoch  63 Batch   18/44   train_loss = 1.025\n",
      "Epoch  63 Batch   28/44   train_loss = 0.949\n",
      "Epoch  63 Batch   38/44   train_loss = 1.061\n",
      "Epoch  64 Batch    4/44   train_loss = 0.994\n",
      "Epoch  64 Batch   14/44   train_loss = 0.952\n",
      "Epoch  64 Batch   24/44   train_loss = 0.939\n",
      "Epoch  64 Batch   34/44   train_loss = 0.939\n",
      "Epoch  65 Batch    0/44   train_loss = 0.981\n",
      "Epoch  65 Batch   10/44   train_loss = 0.946\n",
      "Epoch  65 Batch   20/44   train_loss = 0.916\n",
      "Epoch  65 Batch   30/44   train_loss = 0.876\n",
      "Epoch  65 Batch   40/44   train_loss = 0.990\n",
      "Epoch  66 Batch    6/44   train_loss = 0.953\n",
      "Epoch  66 Batch   16/44   train_loss = 0.974\n",
      "Epoch  66 Batch   26/44   train_loss = 0.925\n",
      "Epoch  66 Batch   36/44   train_loss = 1.002\n",
      "Epoch  67 Batch    2/44   train_loss = 0.984\n",
      "Epoch  67 Batch   12/44   train_loss = 0.989\n",
      "Epoch  67 Batch   22/44   train_loss = 0.969\n",
      "Epoch  67 Batch   32/44   train_loss = 0.962\n",
      "Epoch  67 Batch   42/44   train_loss = 0.928\n",
      "Epoch  68 Batch    8/44   train_loss = 0.908\n",
      "Epoch  68 Batch   18/44   train_loss = 0.979\n",
      "Epoch  68 Batch   28/44   train_loss = 0.902\n",
      "Epoch  68 Batch   38/44   train_loss = 0.991\n",
      "Epoch  69 Batch    4/44   train_loss = 0.950\n",
      "Epoch  69 Batch   14/44   train_loss = 0.915\n",
      "Epoch  69 Batch   24/44   train_loss = 0.913\n",
      "Epoch  69 Batch   34/44   train_loss = 0.877\n",
      "Epoch  70 Batch    0/44   train_loss = 0.943\n",
      "Epoch  70 Batch   10/44   train_loss = 0.910\n",
      "Epoch  70 Batch   20/44   train_loss = 0.903\n",
      "Epoch  70 Batch   30/44   train_loss = 0.827\n",
      "Epoch  70 Batch   40/44   train_loss = 0.912\n",
      "Epoch  71 Batch    6/44   train_loss = 0.889\n",
      "Epoch  71 Batch   16/44   train_loss = 0.927\n",
      "Epoch  71 Batch   26/44   train_loss = 0.889\n",
      "Epoch  71 Batch   36/44   train_loss = 0.903\n",
      "Epoch  72 Batch    2/44   train_loss = 0.937\n",
      "Epoch  72 Batch   12/44   train_loss = 0.939\n",
      "Epoch  72 Batch   22/44   train_loss = 0.930\n",
      "Epoch  72 Batch   32/44   train_loss = 0.948\n",
      "Epoch  72 Batch   42/44   train_loss = 0.841\n",
      "Epoch  73 Batch    8/44   train_loss = 0.836\n",
      "Epoch  73 Batch   18/44   train_loss = 0.898\n",
      "Epoch  73 Batch   28/44   train_loss = 0.833\n",
      "Epoch  73 Batch   38/44   train_loss = 0.901\n",
      "Epoch  74 Batch    4/44   train_loss = 0.898\n",
      "Epoch  74 Batch   14/44   train_loss = 0.828\n",
      "Epoch  74 Batch   24/44   train_loss = 0.845\n",
      "Epoch  74 Batch   34/44   train_loss = 0.823\n",
      "Epoch  75 Batch    0/44   train_loss = 0.830\n",
      "Epoch  75 Batch   10/44   train_loss = 0.835\n",
      "Epoch  75 Batch   20/44   train_loss = 0.809\n",
      "Epoch  75 Batch   30/44   train_loss = 0.781\n",
      "Epoch  75 Batch   40/44   train_loss = 0.849\n",
      "Epoch  76 Batch    6/44   train_loss = 0.841\n",
      "Epoch  76 Batch   16/44   train_loss = 0.846\n",
      "Epoch  76 Batch   26/44   train_loss = 0.824\n",
      "Epoch  76 Batch   36/44   train_loss = 0.857\n",
      "Epoch  77 Batch    2/44   train_loss = 0.855\n",
      "Epoch  77 Batch   12/44   train_loss = 0.897\n",
      "Epoch  77 Batch   22/44   train_loss = 0.854\n",
      "Epoch  77 Batch   32/44   train_loss = 0.879\n",
      "Epoch  77 Batch   42/44   train_loss = 0.787\n",
      "Epoch  78 Batch    8/44   train_loss = 0.760\n",
      "Epoch  78 Batch   18/44   train_loss = 0.846\n",
      "Epoch  78 Batch   28/44   train_loss = 0.790\n",
      "Epoch  78 Batch   38/44   train_loss = 0.839\n",
      "Epoch  79 Batch    4/44   train_loss = 0.811\n",
      "Epoch  79 Batch   14/44   train_loss = 0.770\n",
      "Epoch  79 Batch   24/44   train_loss = 0.777\n",
      "Epoch  79 Batch   34/44   train_loss = 0.774\n",
      "Epoch  80 Batch    0/44   train_loss = 0.772\n",
      "Epoch  80 Batch   10/44   train_loss = 0.779\n",
      "Epoch  80 Batch   20/44   train_loss = 0.735\n",
      "Epoch  80 Batch   30/44   train_loss = 0.741\n",
      "Epoch  80 Batch   40/44   train_loss = 0.776\n",
      "Epoch  81 Batch    6/44   train_loss = 0.781\n",
      "Epoch  81 Batch   16/44   train_loss = 0.803\n",
      "Epoch  81 Batch   26/44   train_loss = 0.751\n",
      "Epoch  81 Batch   36/44   train_loss = 0.811\n",
      "Epoch  82 Batch    2/44   train_loss = 0.761\n",
      "Epoch  82 Batch   12/44   train_loss = 0.823\n",
      "Epoch  82 Batch   22/44   train_loss = 0.797\n",
      "Epoch  82 Batch   32/44   train_loss = 0.793\n",
      "Epoch  82 Batch   42/44   train_loss = 0.723\n",
      "Epoch  83 Batch    8/44   train_loss = 0.673\n",
      "Epoch  83 Batch   18/44   train_loss = 0.792\n",
      "Epoch  83 Batch   28/44   train_loss = 0.745\n",
      "Epoch  83 Batch   38/44   train_loss = 0.775\n",
      "Epoch  84 Batch    4/44   train_loss = 0.757\n",
      "Epoch  84 Batch   14/44   train_loss = 0.721\n",
      "Epoch  84 Batch   24/44   train_loss = 0.724\n",
      "Epoch  84 Batch   34/44   train_loss = 0.727\n",
      "Epoch  85 Batch    0/44   train_loss = 0.714\n",
      "Epoch  85 Batch   10/44   train_loss = 0.708\n",
      "Epoch  85 Batch   20/44   train_loss = 0.672\n",
      "Epoch  85 Batch   30/44   train_loss = 0.694\n",
      "Epoch  85 Batch   40/44   train_loss = 0.743\n",
      "Epoch  86 Batch    6/44   train_loss = 0.717\n",
      "Epoch  86 Batch   16/44   train_loss = 0.743\n",
      "Epoch  86 Batch   26/44   train_loss = 0.699\n",
      "Epoch  86 Batch   36/44   train_loss = 0.756\n",
      "Epoch  87 Batch    2/44   train_loss = 0.717\n",
      "Epoch  87 Batch   12/44   train_loss = 0.751\n",
      "Epoch  87 Batch   22/44   train_loss = 0.751\n",
      "Epoch  87 Batch   32/44   train_loss = 0.731\n",
      "Epoch  87 Batch   42/44   train_loss = 0.689\n",
      "Epoch  88 Batch    8/44   train_loss = 0.623\n",
      "Epoch  88 Batch   18/44   train_loss = 0.740\n",
      "Epoch  88 Batch   28/44   train_loss = 0.690\n",
      "Epoch  88 Batch   38/44   train_loss = 0.736\n",
      "Epoch  89 Batch    4/44   train_loss = 0.695\n",
      "Epoch  89 Batch   14/44   train_loss = 0.672\n",
      "Epoch  89 Batch   24/44   train_loss = 0.687\n",
      "Epoch  89 Batch   34/44   train_loss = 0.691\n",
      "Epoch  90 Batch    0/44   train_loss = 0.677\n",
      "Epoch  90 Batch   10/44   train_loss = 0.679\n",
      "Epoch  90 Batch   20/44   train_loss = 0.627\n",
      "Epoch  90 Batch   30/44   train_loss = 0.663\n",
      "Epoch  90 Batch   40/44   train_loss = 0.695\n",
      "Epoch  91 Batch    6/44   train_loss = 0.675\n",
      "Epoch  91 Batch   16/44   train_loss = 0.680\n",
      "Epoch  91 Batch   26/44   train_loss = 0.661\n",
      "Epoch  91 Batch   36/44   train_loss = 0.698\n",
      "Epoch  92 Batch    2/44   train_loss = 0.679\n",
      "Epoch  92 Batch   12/44   train_loss = 0.697\n",
      "Epoch  92 Batch   22/44   train_loss = 0.704\n",
      "Epoch  92 Batch   32/44   train_loss = 0.699\n",
      "Epoch  92 Batch   42/44   train_loss = 0.654\n",
      "Epoch  93 Batch    8/44   train_loss = 0.599\n",
      "Epoch  93 Batch   18/44   train_loss = 0.668\n",
      "Epoch  93 Batch   28/44   train_loss = 0.656\n",
      "Epoch  93 Batch   38/44   train_loss = 0.687\n",
      "Epoch  94 Batch    4/44   train_loss = 0.665\n",
      "Epoch  94 Batch   14/44   train_loss = 0.634\n",
      "Epoch  94 Batch   24/44   train_loss = 0.662\n",
      "Epoch  94 Batch   34/44   train_loss = 0.640\n",
      "Epoch  95 Batch    0/44   train_loss = 0.641\n",
      "Epoch  95 Batch   10/44   train_loss = 0.642\n",
      "Epoch  95 Batch   20/44   train_loss = 0.584\n",
      "Epoch  95 Batch   30/44   train_loss = 0.593\n",
      "Epoch  95 Batch   40/44   train_loss = 0.647\n",
      "Epoch  96 Batch    6/44   train_loss = 0.640\n",
      "Epoch  96 Batch   16/44   train_loss = 0.648\n",
      "Epoch  96 Batch   26/44   train_loss = 0.635\n",
      "Epoch  96 Batch   36/44   train_loss = 0.665\n",
      "Epoch  97 Batch    2/44   train_loss = 0.659\n",
      "Epoch  97 Batch   12/44   train_loss = 0.665\n",
      "Epoch  97 Batch   22/44   train_loss = 0.666\n",
      "Epoch  97 Batch   32/44   train_loss = 0.687\n",
      "Epoch  97 Batch   42/44   train_loss = 0.628\n",
      "Epoch  98 Batch    8/44   train_loss = 0.552\n",
      "Epoch  98 Batch   18/44   train_loss = 0.646\n",
      "Epoch  98 Batch   28/44   train_loss = 0.636\n",
      "Epoch  98 Batch   38/44   train_loss = 0.661\n",
      "Epoch  99 Batch    4/44   train_loss = 0.642\n",
      "Epoch  99 Batch   14/44   train_loss = 0.617\n",
      "Epoch  99 Batch   24/44   train_loss = 0.614\n",
      "Epoch  99 Batch   34/44   train_loss = 0.610\n",
      "Model Trained and Saved\n"
     ]
    }
   ],
   "source": [
    "\"\"\"\n",
    "DON'T MODIFY ANYTHING IN THIS CELL\n",
    "\"\"\"\n",
    "batches = get_batches(int_text, batch_size, seq_length)\n",
    "\n",
    "with tf.Session(graph=train_graph) as sess:\n",
    "    sess.run(tf.global_variables_initializer())\n",
    "\n",
    "    for epoch_i in range(num_epochs):\n",
    "        state = sess.run(initial_state, {input_text: batches[0][0]})\n",
    "\n",
    "        for batch_i, (x, y) in enumerate(batches):\n",
    "            feed = {\n",
    "                input_text: x,\n",
    "                targets: y,\n",
    "                initial_state: state,\n",
    "                lr: learning_rate}\n",
    "            train_loss, state, _ = sess.run([cost, final_state, train_op], feed)\n",
    "\n",
    "            # Show every <show_every_n_batches> batches\n",
    "            if (epoch_i * len(batches) + batch_i) % show_every_n_batches == 0:\n",
    "                print('Epoch {:>3} Batch {:>4}/{}   train_loss = {:.3f}'.format(\n",
    "                    epoch_i,\n",
    "                    batch_i,\n",
    "                    len(batches),\n",
    "                    train_loss))\n",
    "\n",
    "    # Save Model\n",
    "    saver = tf.train.Saver()\n",
    "    saver.save(sess, save_dir)\n",
    "    print('Model Trained and Saved')"
   ]
  },
  {
   "cell_type": "markdown",
   "metadata": {
    "deletable": true,
    "editable": true
   },
   "source": [
    "## Save Parameters\n",
    "Save `seq_length` and `save_dir` for generating a new TV script."
   ]
  },
  {
   "cell_type": "code",
   "execution_count": 19,
   "metadata": {
    "collapsed": true,
    "deletable": true,
    "editable": true
   },
   "outputs": [],
   "source": [
    "\"\"\"\n",
    "DON'T MODIFY ANYTHING IN THIS CELL\n",
    "\"\"\"\n",
    "# Save parameters for checkpoint\n",
    "helper.save_params((seq_length, save_dir))"
   ]
  },
  {
   "cell_type": "markdown",
   "metadata": {
    "deletable": true,
    "editable": true
   },
   "source": [
    "# Checkpoint"
   ]
  },
  {
   "cell_type": "code",
   "execution_count": 20,
   "metadata": {
    "collapsed": true,
    "deletable": true,
    "editable": true
   },
   "outputs": [],
   "source": [
    "\"\"\"\n",
    "DON'T MODIFY ANYTHING IN THIS CELL\n",
    "\"\"\"\n",
    "import tensorflow as tf\n",
    "import numpy as np\n",
    "import helper\n",
    "import problem_unittests as tests\n",
    "\n",
    "_, vocab_to_int, int_to_vocab, token_dict = helper.load_preprocess()\n",
    "seq_length, load_dir = helper.load_params()"
   ]
  },
  {
   "cell_type": "markdown",
   "metadata": {
    "deletable": true,
    "editable": true
   },
   "source": [
    "## Implement Generate Functions\n",
    "### Get Tensors\n",
    "Get tensors from `loaded_graph` using the function [`get_tensor_by_name()`](https://www.tensorflow.org/api_docs/python/tf/Graph#get_tensor_by_name).  Get the tensors using the following names:\n",
    "- \"input:0\"\n",
    "- \"initial_state:0\"\n",
    "- \"final_state:0\"\n",
    "- \"probs:0\"\n",
    "\n",
    "Return the tensors in the following tuple `(InputTensor, InitialStateTensor, FinalStateTensor, ProbsTensor)` "
   ]
  },
  {
   "cell_type": "code",
   "execution_count": 21,
   "metadata": {
    "collapsed": false,
    "deletable": true,
    "editable": true
   },
   "outputs": [
    {
     "name": "stdout",
     "output_type": "stream",
     "text": [
      "Tests Passed\n"
     ]
    }
   ],
   "source": [
    "def get_tensors(loaded_graph):\n",
    "    \"\"\"\n",
    "    Get input, initial state, final state, and probabilities tensor from <loaded_graph>\n",
    "    :param loaded_graph: TensorFlow graph loaded from file\n",
    "    :return: Tuple (InputTensor, InitialStateTensor, FinalStateTensor, ProbsTensor)\n",
    "    \"\"\"\n",
    "    \n",
    "    input_tensor = loaded_graph.get_tensor_by_name('input:0') # These tensors are weighted from training; let's just yank them!\n",
    "    initial_state_tensor = loaded_graph.get_tensor_by_name('initial_state:0') # Not sure where this name:int syntax came from though..\n",
    "    final_state_tensor = loaded_graph.get_tensor_by_name('final_state:0') # Must be TF specific\n",
    "    probs_tensor = loaded_graph.get_tensor_by_name('probs:0') # Certainly doesn't seem very Pythonic\n",
    "    \n",
    "    return input_tensor, initial_state_tensor, final_state_tensor, probs_tensor\n",
    "\n",
    "\n",
    "\"\"\"\n",
    "DON'T MODIFY ANYTHING IN THIS CELL THAT IS BELOW THIS LINE\n",
    "\"\"\"\n",
    "tests.test_get_tensors(get_tensors)"
   ]
  },
  {
   "cell_type": "markdown",
   "metadata": {
    "deletable": true,
    "editable": true
   },
   "source": [
    "### Choose Word\n",
    "Implement the `pick_word()` function to select the next word using `probabilities`."
   ]
  },
  {
   "cell_type": "code",
   "execution_count": 22,
   "metadata": {
    "collapsed": false,
    "deletable": true,
    "editable": true
   },
   "outputs": [
    {
     "name": "stdout",
     "output_type": "stream",
     "text": [
      "Tests Passed\n"
     ]
    }
   ],
   "source": [
    "def pick_word(probabilities, int_to_vocab):\n",
    "    \"\"\"\n",
    "    Pick the next word in the generated text\n",
    "    :param probabilities: Probabilites of the next word\n",
    "    :param int_to_vocab: Dictionary of word ids as the keys and words as the values\n",
    "    :return: String of the predicted word\n",
    "    \"\"\"\n",
    "    \n",
    "    index = np.random.choice(len(int_to_vocab), 1, p=probabilities)[0] # Using our probabilities, find the next int in the sequence\n",
    "    predicted_word = int_to_vocab[index] # Convert that int to a string using a dict!\n",
    "    \n",
    "    return predicted_word\n",
    "\n",
    "\n",
    "\"\"\"\n",
    "DON'T MODIFY ANYTHING IN THIS CELL THAT IS BELOW THIS LINE\n",
    "\"\"\"\n",
    "tests.test_pick_word(pick_word)"
   ]
  },
  {
   "cell_type": "markdown",
   "metadata": {
    "deletable": true,
    "editable": true
   },
   "source": [
    "## Generate TV Script\n",
    "This will generate the TV script for you.  Set `gen_length` to the length of TV script you want to generate."
   ]
  },
  {
   "cell_type": "code",
   "execution_count": 23,
   "metadata": {
    "collapsed": false,
    "deletable": true,
    "editable": true
   },
   "outputs": [
    {
     "name": "stdout",
     "output_type": "stream",
     "text": [
      "moe_szyslak: heck no-- that's true. that's the man who is from the forget-me-shot.\n",
      "moe_szyslak:(too voice) oh yeah, uh... what all you know who i made that?\n",
      "bart_simpson: yeah? look, we gotta celebrate! throw a guy who fixes things?\n",
      "homer_simpson: wait on!\n",
      "homer_simpson: lisa's mad at me and marge is mad.(really does you,(flips page) from no, i have kids?\n",
      "voice: excuse me, the plaster's flaking again!\n",
      "crowd:(chanting) barney! i believe my wife was madonna.\n",
      "krusty_the_clown: a chance of backgammon.\n",
      "bart_simpson:(singing) hello...\n",
      "dr. _zander: with you poor soul thing i see. health in the car.\n",
      "moe_szyslak: better set the morning? how 'bout lenny.(stands up coaster) this coaster's fine.\n",
      "moe_szyslak: just ask anyone in this bar.\n",
      "moe_szyslak: power off, einstein.\n",
      "moe_szyslak: yeah! ooh, you've been taking ventriloquism lessons.(nervous laugh)\n",
      "lenny_leonard:(singing,\n"
     ]
    }
   ],
   "source": [
    "gen_length = 200\n",
    "# homer_simpson, moe_szyslak, or Barney_Gumble\n",
    "prime_word = 'moe_szyslak'\n",
    "\n",
    "\"\"\"\n",
    "DON'T MODIFY ANYTHING IN THIS CELL THAT IS BELOW THIS LINE\n",
    "\"\"\"\n",
    "loaded_graph = tf.Graph()\n",
    "with tf.Session(graph=loaded_graph) as sess:\n",
    "    # Load saved model\n",
    "    loader = tf.train.import_meta_graph(load_dir + '.meta')\n",
    "    loader.restore(sess, load_dir)\n",
    "\n",
    "    # Get Tensors from loaded model\n",
    "    input_text, initial_state, final_state, probs = get_tensors(loaded_graph)\n",
    "\n",
    "    # Sentences generation setup\n",
    "    gen_sentences = [prime_word + ':']\n",
    "    prev_state = sess.run(initial_state, {input_text: np.array([[1]])})\n",
    "\n",
    "    # Generate sentences\n",
    "    for n in range(gen_length):\n",
    "        # Dynamic Input\n",
    "        dyn_input = [[vocab_to_int[word] for word in gen_sentences[-seq_length:]]]\n",
    "        dyn_seq_length = len(dyn_input[0])\n",
    "\n",
    "        # Get Prediction\n",
    "        probabilities, prev_state = sess.run(\n",
    "            [probs, final_state],\n",
    "            {input_text: dyn_input, initial_state: prev_state})\n",
    "        \n",
    "        pred_word = pick_word(probabilities[dyn_seq_length-1], int_to_vocab)\n",
    "\n",
    "        gen_sentences.append(pred_word)\n",
    "    \n",
    "    # Remove tokens\n",
    "    tv_script = ' '.join(gen_sentences)\n",
    "    for key, token in token_dict.items():\n",
    "        ending = ' ' if key in ['\\n', '(', '\"'] else ''\n",
    "        tv_script = tv_script.replace(' ' + token.lower(), key)\n",
    "    tv_script = tv_script.replace('\\n ', '\\n')\n",
    "    tv_script = tv_script.replace('( ', '(')\n",
    "        \n",
    "    print(tv_script)"
   ]
  },
  {
   "cell_type": "markdown",
   "metadata": {
    "deletable": true,
    "editable": true
   },
   "source": [
    "# The TV Script is Nonsensical\n",
    "\n",
    "It's ok if the TV script doesn't make any sense.  We trained on less than a megabyte of text! \n",
    "\n",
    "In order to get good results, you'll have to use a smaller vocabulary or get more data.  Luckly there's more data!\n",
    "\n",
    "As we mentioned in the begging of this project, this is a subset of [another dataset](https://www.kaggle.com/wcukierski/the-simpsons-by-the-data).  We didn't have you train on all the data, because that would take too long.  However, you are free to train your neural network on all the data.  After you complete the project, of course."
   ]
  },
  {
   "cell_type": "markdown",
   "metadata": {
    "deletable": true,
    "editable": true
   },
   "source": [
    "# Submitting This Project\n",
    "When submitting this project, make sure to run all the cells before saving the notebook. Save the notebook file as \"dlnd_tv_script_generation.ipynb\" and save it as a HTML file under \"File\" -> \"Download as\". Include the \"helper.py\" and \"problem_unittests.py\" files in your submission."
   ]
  }
 ],
 "metadata": {
  "kernelspec": {
   "display_name": "tv-script-generation",
   "language": "python",
   "name": "tv-script-generation"
  },
  "language_info": {
   "codemirror_mode": {
    "name": "ipython",
    "version": 3
   },
   "file_extension": ".py",
   "mimetype": "text/x-python",
   "name": "python",
   "nbconvert_exporter": "python",
   "pygments_lexer": "ipython3",
   "version": "3.6.0"
  },
  "widgets": {
   "state": {},
   "version": "1.1.2"
  }
 },
 "nbformat": 4,
 "nbformat_minor": 1
}
